{
 "cells": [
  {
   "cell_type": "code",
   "execution_count": null,
   "metadata": {},
   "outputs": [],
   "source": [
    "#  ---導入模塊---"
   ]
  },
  {
   "cell_type": "code",
   "execution_count": null,
   "metadata": {},
   "outputs": [],
   "source": [
    "from sklearn import datasets\n",
    "from sklearn.cross_validation import train_test_split\n",
    "import pandas as pd"
   ]
  },
  {
   "cell_type": "code",
   "execution_count": null,
   "metadata": {},
   "outputs": [],
   "source": [
    "# ---資料處理---"
   ]
  },
  {
   "cell_type": "code",
   "execution_count": null,
   "metadata": {},
   "outputs": [],
   "source": [
    "wine = datasets.load_wine()\n",
    "# 載入SKlearn內建資料集\n",
    "wine_data =  wine.data\n",
    "# 定義資料特徵\n",
    "wine_target = wine.target\n",
    "# 定義資料標籤\n",
    "# print(pd.DataFrame(wine.data))\n",
    "# 印出資料特徵查看\n",
    "# print(pd.DataFrame(wine.target))\n",
    "# 印出資料標籤查看\n",
    "x_train, x_test, y_train, y_test = train_test_split(wine_data, wine_target, test_size = 0.2)\n",
    "# 使用\"train_test_spit\"將數據分成訓練和測試兩類,test_size = 0.2,代表測試數據佔20%"
   ]
  },
  {
   "cell_type": "code",
   "execution_count": null,
   "metadata": {},
   "outputs": [],
   "source": [
    "print('x_test:測試用特徵')\n",
    "print(x_test[0:5])\n",
    "print('----------------------------------------------------------')\n",
    "print('x_train:訓練用特徵')\n",
    "print(x_train)\n",
    "print('----------------------------------------------------------')\n",
    "print('y_test:測試用標籤')\n",
    "print(y_test)\n",
    "print('----------------------------------------------------------')\n",
    "print('y_train:訓練用標籤')\n",
    "print(y_train)"
   ]
  },
  {
   "cell_type": "code",
   "execution_count": null,
   "metadata": {},
   "outputs": [],
   "source": [
    "# ---KNN分類---"
   ]
  },
  {
   "cell_type": "code",
   "execution_count": null,
   "metadata": {},
   "outputs": [],
   "source": [
    "from sklearn.neighbors import KNeighborsClassifier\n",
    "# 導入模塊"
   ]
  },
  {
   "cell_type": "code",
   "execution_count": null,
   "metadata": {},
   "outputs": [],
   "source": [
    "knn = KNeighborsClassifier(p = 2)\n",
    "# 定義模塊,設定p值為2,p值為Minkowski metric參數,p=2使用歐幾里得距離\n",
    "knn.fit(x_train, y_train)\n",
    "# 注入訓練數據使用x_train為訓練數據y_train為標籤\n",
    "print(knn.predict(x_test))\n",
    "# 預測x_test的標籤類\n",
    "print(y_test)"
   ]
  }
 ],
 "metadata": {
  "kernelspec": {
   "display_name": "Python 3",
   "language": "python",
   "name": "python3"
  },
  "language_info": {
   "codemirror_mode": {
    "name": "ipython",
    "version": 3
   },
   "file_extension": ".py",
   "mimetype": "text/x-python",
   "name": "python",
   "nbconvert_exporter": "python",
   "pygments_lexer": "ipython3",
   "version": "3.7.0"
  }
 },
 "nbformat": 4,
 "nbformat_minor": 2
}
