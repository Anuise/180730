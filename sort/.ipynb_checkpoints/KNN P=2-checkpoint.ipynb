{
 "cells": [
  {
   "cell_type": "code",
   "execution_count": 1,
   "metadata": {},
   "outputs": [],
   "source": [
    "#  ---導入模塊---"
   ]
  },
  {
   "cell_type": "code",
   "execution_count": 2,
   "metadata": {},
   "outputs": [
    {
     "name": "stderr",
     "output_type": "stream",
     "text": [
      "/home/au/anaconda3/lib/python3.7/site-packages/sklearn/cross_validation.py:41: DeprecationWarning: This module was deprecated in version 0.18 in favor of the model_selection module into which all the refactored classes and functions are moved. Also note that the interface of the new CV iterators are different from that of this module. This module will be removed in 0.20.\n",
      "  \"This module will be removed in 0.20.\", DeprecationWarning)\n"
     ]
    }
   ],
   "source": [
    "from sklearn import datasets\n",
    "from sklearn.cross_validation import train_test_split\n",
    "import pandas as pd"
   ]
  },
  {
   "cell_type": "code",
   "execution_count": 3,
   "metadata": {},
   "outputs": [],
   "source": [
    "# ---資料處理---"
   ]
  },
  {
   "cell_type": "code",
   "execution_count": 4,
   "metadata": {},
   "outputs": [],
   "source": [
    "wine = datasets.load_wine()\n",
    "# 載入SKlearn內建資料集\n",
    "wine_data =  wine.data\n",
    "# 定義資料特徵\n",
    "wine_target = wine.target\n",
    "# 定義資料標籤\n",
    "# print(pd.DataFrame(wine.data))\n",
    "# 印出資料特徵查看\n",
    "# print(pd.DataFrame(wine.target))\n",
    "# 印出資料標籤查看\n",
    "x_train, x_test, y_train, y_test = train_test_split(wine_data, wine_target, test_size = 0.2)\n",
    "# 使用\"train_test_spit\"將數據分成訓練和測試兩類,test_size = 0.2,代表測試數據佔20%"
   ]
  },
  {
   "cell_type": "code",
   "execution_count": 5,
   "metadata": {},
   "outputs": [
    {
     "name": "stdout",
     "output_type": "stream",
     "text": [
      "x_test:測試用特徵\n",
      "[[1.305e+01 1.650e+00 2.550e+00 1.800e+01 9.800e+01 2.450e+00 2.430e+00\n",
      "  2.900e-01 1.440e+00 4.250e+00 1.120e+00 2.510e+00 1.105e+03]\n",
      " [1.386e+01 1.350e+00 2.270e+00 1.600e+01 9.800e+01 2.980e+00 3.150e+00\n",
      "  2.200e-01 1.850e+00 7.220e+00 1.010e+00 3.550e+00 1.045e+03]\n",
      " [1.237e+01 1.630e+00 2.300e+00 2.450e+01 8.800e+01 2.220e+00 2.450e+00\n",
      "  4.000e-01 1.900e+00 2.120e+00 8.900e-01 2.780e+00 3.420e+02]\n",
      " [1.146e+01 3.740e+00 1.820e+00 1.950e+01 1.070e+02 3.180e+00 2.580e+00\n",
      "  2.400e-01 3.580e+00 2.900e+00 7.500e-01 2.810e+00 5.620e+02]\n",
      " [1.162e+01 1.990e+00 2.280e+00 1.800e+01 9.800e+01 3.020e+00 2.260e+00\n",
      "  1.700e-01 1.350e+00 3.250e+00 1.160e+00 2.960e+00 3.450e+02]]\n",
      "----------------------------------------------------------\n",
      "x_train:訓練用特徵\n",
      "[[1.141e+01 7.400e-01 2.500e+00 ... 1.100e+00 2.310e+00 4.340e+02]\n",
      " [1.368e+01 1.830e+00 2.360e+00 ... 1.230e+00 2.870e+00 9.900e+02]\n",
      " [1.367e+01 1.250e+00 1.920e+00 ... 1.230e+00 2.460e+00 6.300e+02]\n",
      " ...\n",
      " [1.378e+01 2.760e+00 2.300e+00 ... 7.000e-01 1.680e+00 6.150e+02]\n",
      " [1.216e+01 1.610e+00 2.310e+00 ... 1.330e+00 2.260e+00 4.950e+02]\n",
      " [1.208e+01 1.390e+00 2.500e+00 ... 9.300e-01 3.190e+00 3.850e+02]]\n",
      "----------------------------------------------------------\n",
      "y_test:測試用標籤\n",
      "[0 0 1 1 1 1 0 2 1 2 1 1 0 1 2 0 2 0 2 1 1 2 0 1 1 0 0 1 0 2 1 0 1 1 0 0]\n",
      "----------------------------------------------------------\n",
      "y_train:訓練用標籤\n",
      "[1 0 1 1 2 0 2 2 0 2 2 1 0 0 2 2 0 0 1 0 2 1 2 0 2 0 1 0 2 0 0 1 2 2 1 1 2\n",
      " 2 0 1 2 1 1 0 1 2 2 1 2 0 1 0 2 0 1 2 2 2 2 0 0 0 0 1 1 1 1 1 0 0 1 1 1 0\n",
      " 2 2 2 2 1 0 1 2 0 0 0 1 2 0 0 0 2 0 0 0 2 0 2 1 2 2 0 1 1 1 1 2 0 0 0 0 1\n",
      " 1 1 1 1 2 1 1 2 1 1 1 1 0 1 0 0 1 1 2 0 1 1 1 2 0 1 1 1 2 1 1]\n"
     ]
    }
   ],
   "source": [
    "print('x_test:測試用特徵')\n",
    "print(x_test[0:5])\n",
    "print('----------------------------------------------------------')\n",
    "print('x_train:訓練用特徵')\n",
    "print(x_train)\n",
    "print('----------------------------------------------------------')\n",
    "print('y_test:測試用標籤')\n",
    "print(y_test)\n",
    "print('----------------------------------------------------------')\n",
    "print('y_train:訓練用標籤')\n",
    "print(y_train)"
   ]
  },
  {
   "cell_type": "code",
   "execution_count": 6,
   "metadata": {},
   "outputs": [],
   "source": [
    "# ---KNN分類---"
   ]
  },
  {
   "cell_type": "code",
   "execution_count": 7,
   "metadata": {},
   "outputs": [],
   "source": [
    "from sklearn.neighbors import KNeighborsClassifier\n",
    "# 導入模塊"
   ]
  },
  {
   "cell_type": "code",
   "execution_count": 8,
   "metadata": {},
   "outputs": [
    {
     "name": "stdout",
     "output_type": "stream",
     "text": [
      "[0 0 1 2 1 2 0 1 1 2 1 1 0 1 2 0 1 1 2 1 1 2 0 1 1 0 0 1 2 2 1 0 1 2 0 0]\n",
      "[0 0 1 1 1 1 0 2 1 2 1 1 0 1 2 0 2 0 2 1 1 2 0 1 1 0 0 1 0 2 1 0 1 1 0 0]\n"
     ]
    }
   ],
   "source": [
    "knn = KNeighborsClassifier(p = 2)\n",
    "# 定義模塊,設定p值為2,p值為Minkowski metric參數,p=2使用歐幾里得距離\n",
    "knn.fit(x_train, y_train)\n",
    "# 注入訓練數據使用x_train為訓練數據y_train為標籤\n",
    "print(knn.predict(x_test))\n",
    "# 預測x_test的標籤類\n",
    "print(y_test)"
   ]
  },
  {
   "cell_type": "code",
   "execution_count": null,
   "metadata": {},
   "outputs": [],
   "source": []
  }
 ],
 "metadata": {
  "kernelspec": {
   "display_name": "Python 3",
   "language": "python",
   "name": "python3"
  },
  "language_info": {
   "codemirror_mode": {
    "name": "ipython",
    "version": 3
   },
   "file_extension": ".py",
   "mimetype": "text/x-python",
   "name": "python",
   "nbconvert_exporter": "python",
   "pygments_lexer": "ipython3",
   "version": "3.7.0"
  }
 },
 "nbformat": 4,
 "nbformat_minor": 2
}
