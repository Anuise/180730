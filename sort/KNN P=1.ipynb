{
 "cells": [
  {
   "cell_type": "code",
   "execution_count": 1,
   "metadata": {},
   "outputs": [],
   "source": [
    "#  ---導入模塊---"
   ]
  },
  {
   "cell_type": "code",
   "execution_count": 2,
   "metadata": {},
   "outputs": [
    {
     "name": "stderr",
     "output_type": "stream",
     "text": [
      "/home/au/anaconda3/lib/python3.7/site-packages/sklearn/cross_validation.py:41: DeprecationWarning: This module was deprecated in version 0.18 in favor of the model_selection module into which all the refactored classes and functions are moved. Also note that the interface of the new CV iterators are different from that of this module. This module will be removed in 0.20.\n",
      "  \"This module will be removed in 0.20.\", DeprecationWarning)\n"
     ]
    }
   ],
   "source": [
    "from sklearn import datasets\n",
    "from sklearn.cross_validation import train_test_split\n",
    "import pandas as pd"
   ]
  },
  {
   "cell_type": "code",
   "execution_count": 3,
   "metadata": {},
   "outputs": [],
   "source": [
    "# ---資料處理---"
   ]
  },
  {
   "cell_type": "code",
   "execution_count": 4,
   "metadata": {},
   "outputs": [],
   "source": [
    "wine = datasets.load_wine()\n",
    "# 載入SKlearn內建資料集\n",
    "wine_data =  wine.data\n",
    "# 定義資料特徵\n",
    "wine_target = wine.target\n",
    "# 定義資料標籤\n",
    "# print(pd.DataFrame(wine.data))\n",
    "# 印出資料特徵查看\n",
    "# print(pd.DataFrame(wine.target))\n",
    "# 印出資料標籤查看\n",
    "x_train, x_test, y_train, y_test = train_test_split(wine_data, wine_target, test_size = 0.2)\n",
    "# 使用\"train_test_spit\"將數據分成訓練和測試兩類,test_size = 0.2,代表測試數據佔20%"
   ]
  },
  {
   "cell_type": "code",
   "execution_count": 5,
   "metadata": {},
   "outputs": [
    {
     "name": "stdout",
     "output_type": "stream",
     "text": [
      "x_test:測試用特徵\n",
      "[[1.371e+01 1.860e+00 2.360e+00 1.660e+01 1.010e+02 2.610e+00 2.880e+00\n",
      "  2.700e-01 1.690e+00 3.800e+00 1.110e+00 4.000e+00 1.035e+03]\n",
      " [1.225e+01 3.880e+00 2.200e+00 1.850e+01 1.120e+02 1.380e+00 7.800e-01\n",
      "  2.900e-01 1.140e+00 8.210e+00 6.500e-01 2.000e+00 8.550e+02]\n",
      " [1.287e+01 4.610e+00 2.480e+00 2.150e+01 8.600e+01 1.700e+00 6.500e-01\n",
      "  4.700e-01 8.600e-01 7.650e+00 5.400e-01 1.860e+00 6.250e+02]\n",
      " [1.184e+01 2.890e+00 2.230e+00 1.800e+01 1.120e+02 1.720e+00 1.320e+00\n",
      "  4.300e-01 9.500e-01 2.650e+00 9.600e-01 2.520e+00 5.000e+02]\n",
      " [1.430e+01 1.920e+00 2.720e+00 2.000e+01 1.200e+02 2.800e+00 3.140e+00\n",
      "  3.300e-01 1.970e+00 6.200e+00 1.070e+00 2.650e+00 1.280e+03]]\n",
      "----------------------------------------------------------\n",
      "x_train:訓練用特徵\n",
      "[[1.362e+01 4.950e+00 2.350e+00 ... 9.100e-01 2.050e+00 5.500e+02]\n",
      " [1.348e+01 1.670e+00 2.640e+00 ... 5.700e-01 1.780e+00 6.200e+02]\n",
      " [1.251e+01 1.730e+00 1.980e+00 ... 1.040e+00 3.570e+00 6.720e+02]\n",
      " ...\n",
      " [1.311e+01 1.010e+00 1.700e+00 ... 1.120e+00 3.180e+00 5.020e+02]\n",
      " [1.438e+01 1.870e+00 2.380e+00 ... 1.200e+00 3.000e+00 1.547e+03]\n",
      " [1.229e+01 3.170e+00 2.210e+00 ... 1.420e+00 2.830e+00 4.060e+02]]\n",
      "----------------------------------------------------------\n",
      "y_test:測試用標籤\n",
      "[0 2 2 1 0 2 1 1 1 0 2 0 0 1 2 0 0 1 1 0 1 2 0 0 1 0 2 1 1 2 0 0 2 0 1 0]\n",
      "----------------------------------------------------------\n",
      "y_train:訓練用標籤\n",
      "[2 2 1 2 1 1 2 2 0 2 0 0 0 2 1 1 1 2 0 1 0 2 1 0 2 0 0 1 1 1 0 2 0 1 2 2 1\n",
      " 2 1 1 0 2 1 0 2 2 1 2 0 0 0 0 1 1 1 0 1 0 1 0 0 1 1 0 0 2 0 1 1 1 1 1 1 2\n",
      " 1 2 1 2 1 1 1 1 1 2 0 2 1 0 1 0 2 2 0 1 1 2 0 1 1 0 2 1 2 2 2 1 2 2 0 2 1\n",
      " 0 2 1 0 1 0 0 2 1 0 2 1 1 0 0 2 0 1 0 0 1 1 1 1 1 0 0 2 1 0 1]\n"
     ]
    }
   ],
   "source": [
    "print('x_test:測試用特徵')\n",
    "print(x_test[0:5])\n",
    "print('----------------------------------------------------------')\n",
    "print('x_train:訓練用特徵')\n",
    "print(x_train)\n",
    "print('----------------------------------------------------------')\n",
    "print('y_test:測試用標籤')\n",
    "print(y_test)\n",
    "print('----------------------------------------------------------')\n",
    "print('y_train:訓練用標籤')\n",
    "print(y_train)"
   ]
  },
  {
   "cell_type": "code",
   "execution_count": 6,
   "metadata": {},
   "outputs": [],
   "source": [
    "# ---最短距離---"
   ]
  },
  {
   "cell_type": "code",
   "execution_count": 7,
   "metadata": {},
   "outputs": [],
   "source": [
    "from sklearn.neighbors import KNeighborsClassifier\n",
    "# 導入模塊"
   ]
  },
  {
   "cell_type": "code",
   "execution_count": 8,
   "metadata": {},
   "outputs": [
    {
     "name": "stdout",
     "output_type": "stream",
     "text": [
      "[0 0 1 2 0 2 1 1 1 0 2 0 2 1 1 0 0 2 1 0 1 2 0 0 1 0 2 1 1 0 0 0 1 0 1 0]\n",
      "[0 2 2 1 0 2 1 1 1 0 2 0 0 1 2 0 0 1 1 0 1 2 0 0 1 0 2 1 1 2 0 0 2 0 1 0]\n"
     ]
    }
   ],
   "source": [
    "knn = KNeighborsClassifier(p = 1)\n",
    "# 定義模塊,設定p值為1,p值為Minkowski metric參數,p=1使用曼哈頓距離\n",
    "knn.fit(x_train, y_train)\n",
    "# 注入訓練數據使用x_train為訓練數據y_train為標籤\n",
    "print(knn.predict(x_test))\n",
    "# 預測x_test的標籤類\n",
    "print(y_test)"
   ]
  },
  {
   "cell_type": "code",
   "execution_count": null,
   "metadata": {},
   "outputs": [],
   "source": []
  }
 ],
 "metadata": {
  "kernelspec": {
   "display_name": "Python 3",
   "language": "python",
   "name": "python3"
  },
  "language_info": {
   "codemirror_mode": {
    "name": "ipython",
    "version": 3
   },
   "file_extension": ".py",
   "mimetype": "text/x-python",
   "name": "python",
   "nbconvert_exporter": "python",
   "pygments_lexer": "ipython3",
   "version": "3.7.0"
  }
 },
 "nbformat": 4,
 "nbformat_minor": 2
}
