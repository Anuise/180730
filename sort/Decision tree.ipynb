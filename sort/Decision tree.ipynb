{
 "cells": [
  {
   "cell_type": "code",
   "execution_count": 1,
   "metadata": {},
   "outputs": [],
   "source": [
    "#  ---導入模塊---"
   ]
  },
  {
   "cell_type": "code",
   "execution_count": 2,
   "metadata": {},
   "outputs": [
    {
     "name": "stderr",
     "output_type": "stream",
     "text": [
      "/home/au/anaconda3/lib/python3.7/site-packages/sklearn/cross_validation.py:41: DeprecationWarning: This module was deprecated in version 0.18 in favor of the model_selection module into which all the refactored classes and functions are moved. Also note that the interface of the new CV iterators are different from that of this module. This module will be removed in 0.20.\n",
      "  \"This module will be removed in 0.20.\", DeprecationWarning)\n"
     ]
    }
   ],
   "source": [
    "from sklearn import datasets\n",
    "from sklearn.cross_validation import train_test_split\n",
    "import pandas as pd"
   ]
  },
  {
   "cell_type": "code",
   "execution_count": 3,
   "metadata": {},
   "outputs": [],
   "source": [
    "# ---資料處理---"
   ]
  },
  {
   "cell_type": "code",
   "execution_count": 4,
   "metadata": {},
   "outputs": [],
   "source": [
    "wine = datasets.load_wine()\n",
    "# 載入SKlearn內建資料集\n",
    "wine_data =  wine.data\n",
    "# 定義資料特徵\n",
    "wine_target = wine.target\n",
    "# 定義資料標籤\n",
    "# print(pd.DataFrame(wine.data))\n",
    "# 印出資料特徵查看\n",
    "# print(pd.DataFrame(wine.target))\n",
    "# 印出資料標籤查看\n",
    "x_train, x_test, y_train, y_test = train_test_split(wine_data, wine_target, test_size = 0.2)\n",
    "# 使用\"train_test_spit\"將數據分成訓練和測試兩類,test_size = 0.2,代表測試數據佔20%"
   ]
  },
  {
   "cell_type": "code",
   "execution_count": 5,
   "metadata": {},
   "outputs": [
    {
     "name": "stdout",
     "output_type": "stream",
     "text": [
      "x_test:測試用特徵\n",
      "[[1.252e+01 2.430e+00 2.170e+00 2.100e+01 8.800e+01 2.550e+00 2.270e+00\n",
      "  2.600e-01 1.220e+00 2.000e+00 9.000e-01 2.780e+00 3.250e+02]\n",
      " [1.483e+01 1.640e+00 2.170e+00 1.400e+01 9.700e+01 2.800e+00 2.980e+00\n",
      "  2.900e-01 1.980e+00 5.200e+00 1.080e+00 2.850e+00 1.045e+03]\n",
      " [1.242e+01 2.550e+00 2.270e+00 2.200e+01 9.000e+01 1.680e+00 1.840e+00\n",
      "  6.600e-01 1.420e+00 2.700e+00 8.600e-01 3.300e+00 3.150e+02]\n",
      " [1.225e+01 3.880e+00 2.200e+00 1.850e+01 1.120e+02 1.380e+00 7.800e-01\n",
      "  2.900e-01 1.140e+00 8.210e+00 6.500e-01 2.000e+00 8.550e+02]\n",
      " [1.373e+01 1.500e+00 2.700e+00 2.250e+01 1.010e+02 3.000e+00 3.250e+00\n",
      "  2.900e-01 2.380e+00 5.700e+00 1.190e+00 2.710e+00 1.285e+03]]\n",
      "----------------------------------------------------------\n",
      "x_train:訓練用特徵\n",
      "[[1.305e+01 5.800e+00 2.130e+00 ... 7.300e-01 3.100e+00 3.800e+02]\n",
      " [1.317e+01 5.190e+00 2.320e+00 ... 6.000e-01 1.480e+00 7.250e+02]\n",
      " [1.208e+01 1.330e+00 2.300e+00 ... 1.070e+00 3.210e+00 6.250e+02]\n",
      " ...\n",
      " [1.410e+01 2.160e+00 2.300e+00 ... 1.250e+00 3.170e+00 1.510e+03]\n",
      " [1.406e+01 2.150e+00 2.610e+00 ... 1.060e+00 3.580e+00 1.295e+03]\n",
      " [1.200e+01 3.430e+00 2.000e+00 ... 9.300e-01 3.050e+00 5.640e+02]]\n",
      "----------------------------------------------------------\n",
      "y_test:測試用標籤\n",
      "[1 0 1 2 0 1 1 2 1 1 0 1 2 2 0 1 2 1 1 2 2 0 2 2 2 1 1 2 0 0 2 1 0 0 2 0]\n",
      "----------------------------------------------------------\n",
      "y_train:訓練用標籤\n",
      "[1 2 1 1 2 0 2 0 0 0 2 2 0 0 1 0 2 1 2 0 2 0 1 0 2 1 2 1 1 1 1 1 0 0 1 1 1\n",
      " 0 1 0 1 2 0 0 0 1 1 1 0 1 0 1 1 2 1 2 1 2 1 2 1 1 0 0 0 1 1 0 2 0 2 0 1 0\n",
      " 1 0 0 0 0 2 2 1 2 1 1 0 1 2 1 0 0 0 2 1 1 0 1 1 2 1 2 2 0 1 0 0 2 0 2 2 1\n",
      " 1 0 0 1 2 1 0 1 1 2 1 0 0 2 0 1 0 0 1 1 2 2 2 2 1 1 1 1 0 0 1]\n"
     ]
    }
   ],
   "source": [
    "print('x_test:測試用特徵')\n",
    "print(x_test[0:5])\n",
    "print('----------------------------------------------------------')\n",
    "print('x_train:訓練用特徵')\n",
    "print(x_train)\n",
    "print('----------------------------------------------------------')\n",
    "print('y_test:測試用標籤')\n",
    "print(y_test)\n",
    "print('----------------------------------------------------------')\n",
    "print('y_train:訓練用標籤')\n",
    "print(y_train)"
   ]
  },
  {
   "cell_type": "code",
   "execution_count": 6,
   "metadata": {},
   "outputs": [],
   "source": [
    "# ---決策樹---"
   ]
  },
  {
   "cell_type": "code",
   "execution_count": 7,
   "metadata": {},
   "outputs": [],
   "source": [
    "from sklearn.tree import DecisionTreeClassifier\n",
    "# 導入模塊"
   ]
  },
  {
   "cell_type": "code",
   "execution_count": 8,
   "metadata": {},
   "outputs": [
    {
     "name": "stdout",
     "output_type": "stream",
     "text": [
      "[1 0 1 2 0 1 1 2 1 1 1 1 2 1 0 1 2 1 1 2 2 0 2 2 2 1 1 1 0 0 2 1 0 0 1 0]\n",
      "[1 0 1 2 0 1 1 2 1 1 0 1 2 2 0 1 2 1 1 2 2 0 2 2 2 1 1 2 0 0 2 1 0 0 2 0]\n"
     ]
    }
   ],
   "source": [
    "tree = DecisionTreeClassifier()\n",
    "# 定義模塊\n",
    "tree.fit(x_train, y_train)\n",
    "# 注入訓練數據使用x_train為訓練數據y_train為標籤\n",
    "print(tree.predict(x_test))\n",
    "# 預測x_test的標籤類\n",
    "print(y_test)"
   ]
  },
  {
   "cell_type": "code",
   "execution_count": null,
   "metadata": {},
   "outputs": [],
   "source": []
  }
 ],
 "metadata": {
  "kernelspec": {
   "display_name": "Python 3",
   "language": "python",
   "name": "python3"
  },
  "language_info": {
   "codemirror_mode": {
    "name": "ipython",
    "version": 3
   },
   "file_extension": ".py",
   "mimetype": "text/x-python",
   "name": "python",
   "nbconvert_exporter": "python",
   "pygments_lexer": "ipython3",
   "version": "3.7.0"
  }
 },
 "nbformat": 4,
 "nbformat_minor": 2
}
